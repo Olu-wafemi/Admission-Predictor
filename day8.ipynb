{
 "cells": [
  {
   "cell_type": "code",
   "execution_count": 19,
   "metadata": {},
   "outputs": [],
   "source": [
    "import pandas as pd\n",
    "import numpy as np\n",
    "import seaborn as sns\n",
    "import matplotlib.pyplot as plt\n",
    "%matplotlib inline"
   ]
  },
  {
   "cell_type": "code",
   "execution_count": 89,
   "metadata": {},
   "outputs": [],
   "source": [
    "data = pd.read_csv('Admission_Predict_Ver1.1.csv')"
   ]
  },
  {
   "cell_type": "code",
   "execution_count": 90,
   "metadata": {},
   "outputs": [
    {
     "data": {
      "text/html": [
       "<div>\n",
       "<style scoped>\n",
       "    .dataframe tbody tr th:only-of-type {\n",
       "        vertical-align: middle;\n",
       "    }\n",
       "\n",
       "    .dataframe tbody tr th {\n",
       "        vertical-align: top;\n",
       "    }\n",
       "\n",
       "    .dataframe thead th {\n",
       "        text-align: right;\n",
       "    }\n",
       "</style>\n",
       "<table border=\"1\" class=\"dataframe\">\n",
       "  <thead>\n",
       "    <tr style=\"text-align: right;\">\n",
       "      <th></th>\n",
       "      <th>Serial No.</th>\n",
       "      <th>GRE Score</th>\n",
       "      <th>TOEFL Score</th>\n",
       "      <th>University Rating</th>\n",
       "      <th>SOP</th>\n",
       "      <th>LOR</th>\n",
       "      <th>CGPA</th>\n",
       "      <th>Research</th>\n",
       "      <th>Chance of Admit</th>\n",
       "    </tr>\n",
       "  </thead>\n",
       "  <tbody>\n",
       "    <tr>\n",
       "      <td>0</td>\n",
       "      <td>1</td>\n",
       "      <td>337</td>\n",
       "      <td>118</td>\n",
       "      <td>4</td>\n",
       "      <td>4.5</td>\n",
       "      <td>4.5</td>\n",
       "      <td>9.65</td>\n",
       "      <td>1</td>\n",
       "      <td>0.92</td>\n",
       "    </tr>\n",
       "    <tr>\n",
       "      <td>1</td>\n",
       "      <td>2</td>\n",
       "      <td>324</td>\n",
       "      <td>107</td>\n",
       "      <td>4</td>\n",
       "      <td>4.0</td>\n",
       "      <td>4.5</td>\n",
       "      <td>8.87</td>\n",
       "      <td>1</td>\n",
       "      <td>0.76</td>\n",
       "    </tr>\n",
       "    <tr>\n",
       "      <td>2</td>\n",
       "      <td>3</td>\n",
       "      <td>316</td>\n",
       "      <td>104</td>\n",
       "      <td>3</td>\n",
       "      <td>3.0</td>\n",
       "      <td>3.5</td>\n",
       "      <td>8.00</td>\n",
       "      <td>1</td>\n",
       "      <td>0.72</td>\n",
       "    </tr>\n",
       "    <tr>\n",
       "      <td>3</td>\n",
       "      <td>4</td>\n",
       "      <td>322</td>\n",
       "      <td>110</td>\n",
       "      <td>3</td>\n",
       "      <td>3.5</td>\n",
       "      <td>2.5</td>\n",
       "      <td>8.67</td>\n",
       "      <td>1</td>\n",
       "      <td>0.80</td>\n",
       "    </tr>\n",
       "    <tr>\n",
       "      <td>4</td>\n",
       "      <td>5</td>\n",
       "      <td>314</td>\n",
       "      <td>103</td>\n",
       "      <td>2</td>\n",
       "      <td>2.0</td>\n",
       "      <td>3.0</td>\n",
       "      <td>8.21</td>\n",
       "      <td>0</td>\n",
       "      <td>0.65</td>\n",
       "    </tr>\n",
       "  </tbody>\n",
       "</table>\n",
       "</div>"
      ],
      "text/plain": [
       "   Serial No.  GRE Score  TOEFL Score  University Rating  SOP  LOR   CGPA  \\\n",
       "0           1        337          118                  4  4.5   4.5  9.65   \n",
       "1           2        324          107                  4  4.0   4.5  8.87   \n",
       "2           3        316          104                  3  3.0   3.5  8.00   \n",
       "3           4        322          110                  3  3.5   2.5  8.67   \n",
       "4           5        314          103                  2  2.0   3.0  8.21   \n",
       "\n",
       "   Research  Chance of Admit   \n",
       "0         1              0.92  \n",
       "1         1              0.76  \n",
       "2         1              0.72  \n",
       "3         1              0.80  \n",
       "4         0              0.65  "
      ]
     },
     "execution_count": 90,
     "metadata": {},
     "output_type": "execute_result"
    }
   ],
   "source": [
    "data.head()"
   ]
  },
  {
   "cell_type": "code",
   "execution_count": 91,
   "metadata": {},
   "outputs": [
    {
     "data": {
      "text/plain": [
       "Serial No.           False\n",
       "GRE Score            False\n",
       "TOEFL Score          False\n",
       "University Rating    False\n",
       "SOP                  False\n",
       "LOR                  False\n",
       "CGPA                 False\n",
       "Research             False\n",
       "Chance of Admit      False\n",
       "dtype: bool"
      ]
     },
     "execution_count": 91,
     "metadata": {},
     "output_type": "execute_result"
    }
   ],
   "source": [
    "data.isnull().any()"
   ]
  },
  {
   "cell_type": "code",
   "execution_count": 38,
   "metadata": {},
   "outputs": [
    {
     "data": {
      "text/plain": [
       "Serial No.             int64\n",
       "GRE Score              int64\n",
       "TOEFL Score            int64\n",
       "University Rating      int64\n",
       "SOP                  float64\n",
       "LOR                  float64\n",
       "CGPA                 float64\n",
       "Research               int64\n",
       "Chance of Admit      float64\n",
       "dtype: object"
      ]
     },
     "execution_count": 38,
     "metadata": {},
     "output_type": "execute_result"
    }
   ],
   "source": [
    "data.dtypes"
   ]
  },
  {
   "cell_type": "code",
   "execution_count": 39,
   "metadata": {},
   "outputs": [
    {
     "name": "stdout",
     "output_type": "stream",
     "text": [
      "<class 'pandas.core.frame.DataFrame'>\n",
      "RangeIndex: 500 entries, 0 to 499\n",
      "Data columns (total 9 columns):\n",
      "Serial No.           500 non-null int64\n",
      "GRE Score            500 non-null int64\n",
      "TOEFL Score          500 non-null int64\n",
      "University Rating    500 non-null int64\n",
      "SOP                  500 non-null float64\n",
      "LOR                  500 non-null float64\n",
      "CGPA                 500 non-null float64\n",
      "Research             500 non-null int64\n",
      "Chance of Admit      500 non-null float64\n",
      "dtypes: float64(4), int64(5)\n",
      "memory usage: 35.3 KB\n"
     ]
    }
   ],
   "source": [
    "data.info()"
   ]
  },
  {
   "cell_type": "code",
   "execution_count": 99,
   "metadata": {},
   "outputs": [
    {
     "data": {
      "text/plain": [
       "0.71    23\n",
       "0.64    19\n",
       "0.73    18\n",
       "0.72    16\n",
       "0.79    16\n",
       "        ..\n",
       "0.34     2\n",
       "0.50     2\n",
       "0.43     1\n",
       "0.37     1\n",
       "0.39     1\n",
       "Name: Chance of Admit , Length: 61, dtype: int64"
      ]
     },
     "execution_count": 99,
     "metadata": {},
     "output_type": "execute_result"
    }
   ],
   "source": [
    "data['Chance of Admit '].value_counts()"
   ]
  },
  {
   "cell_type": "code",
   "execution_count": 56,
   "metadata": {},
   "outputs": [
    {
     "data": {
      "text/plain": [
       "CGPA\n",
       "6.80    0.360000\n",
       "7.57    0.370000\n",
       "7.66    0.373333\n",
       "7.43    0.415000\n",
       "7.84    0.420000\n",
       "          ...   \n",
       "9.78    0.960000\n",
       "9.82    0.960000\n",
       "9.87    0.965000\n",
       "9.91    0.970000\n",
       "9.92    0.970000\n",
       "Name: Chance of Admit , Length: 184, dtype: float64"
      ]
     },
     "execution_count": 56,
     "metadata": {},
     "output_type": "execute_result"
    }
   ],
   "source": [
    "data.groupby('CGPA')['Chance of Admit '].mean().sort_values()"
   ]
  },
  {
   "cell_type": "markdown",
   "metadata": {},
   "source": [
    "A high CGPA indicates a high chance of Admission"
   ]
  },
  {
   "cell_type": "code",
   "execution_count": 65,
   "metadata": {},
   "outputs": [
    {
     "data": {
      "text/plain": [
       "TOEFL Score\n",
       "93     0.460000\n",
       "96     0.476667\n",
       "94     0.490000\n",
       "97     0.502857\n",
       "92     0.510000\n",
       "95     0.516667\n",
       "99     0.566957\n",
       "98     0.567000\n",
       "100    0.597083\n",
       "101    0.610500\n",
       "105    0.648108\n",
       "102    0.651667\n",
       "106    0.676429\n",
       "103    0.678000\n",
       "104    0.678966\n",
       "107    0.708214\n",
       "108    0.724211\n",
       "109    0.752632\n",
       "110    0.767045\n",
       "112    0.800000\n",
       "111    0.804000\n",
       "114    0.840556\n",
       "113    0.860526\n",
       "115    0.879091\n",
       "116    0.901875\n",
       "118    0.925000\n",
       "117    0.927500\n",
       "119    0.930000\n",
       "120    0.934444\n",
       "Name: Chance of Admit , dtype: float64"
      ]
     },
     "execution_count": 65,
     "metadata": {},
     "output_type": "execute_result"
    }
   ],
   "source": [
    "data.groupby('TOEFL Score')['Chance of Admit '].mean().sort_values()"
   ]
  },
  {
   "cell_type": "markdown",
   "metadata": {},
   "source": [
    "A high TOEFL Score means a high chance of Admission"
   ]
  },
  {
   "cell_type": "code",
   "execution_count": 66,
   "metadata": {},
   "outputs": [
    {
     "data": {
      "text/plain": [
       "GRE Score\n",
       "290    0.460000\n",
       "294    0.475000\n",
       "297    0.498333\n",
       "298    0.507000\n",
       "295    0.512000\n",
       "296    0.522000\n",
       "299    0.537000\n",
       "302    0.558571\n",
       "304    0.570833\n",
       "303    0.590000\n",
       "300    0.595833\n",
       "305    0.624545\n",
       "301    0.624545\n",
       "307    0.627000\n",
       "309    0.637778\n",
       "293    0.640000\n",
       "306    0.642857\n",
       "315    0.645385\n",
       "308    0.655385\n",
       "316    0.661667\n",
       "311    0.665000\n",
       "310    0.667273\n",
       "313    0.684167\n",
       "312    0.685417\n",
       "317    0.690000\n",
       "314    0.696250\n",
       "318    0.702500\n",
       "319    0.729167\n",
       "325    0.742667\n",
       "322    0.784706\n",
       "323    0.785385\n",
       "320    0.790000\n",
       "327    0.801176\n",
       "321    0.805294\n",
       "324    0.813913\n",
       "326    0.822500\n",
       "328    0.848889\n",
       "329    0.853000\n",
       "332    0.893750\n",
       "330    0.906250\n",
       "334    0.916250\n",
       "331    0.918889\n",
       "338    0.920000\n",
       "333    0.930000\n",
       "339    0.936667\n",
       "337    0.940000\n",
       "335    0.940000\n",
       "340    0.947778\n",
       "336    0.948000\n",
       "Name: Chance of Admit , dtype: float64"
      ]
     },
     "execution_count": 66,
     "metadata": {},
     "output_type": "execute_result"
    }
   ],
   "source": [
    "data.groupby('GRE Score')['Chance of Admit '].mean().sort_values()"
   ]
  },
  {
   "cell_type": "code",
   "execution_count": 68,
   "metadata": {},
   "outputs": [
    {
     "data": {
      "text/plain": [
       "Research\n",
       "0    0.634909\n",
       "1    0.789964\n",
       "Name: Chance of Admit , dtype: float64"
      ]
     },
     "execution_count": 68,
     "metadata": {},
     "output_type": "execute_result"
    }
   ],
   "source": [
    "data.groupby('Research')['Chance of Admit '].mean().sort_values()"
   ]
  },
  {
   "cell_type": "markdown",
   "metadata": {},
   "source": [
    "Applicants who have done research have a higher chance of Admission"
   ]
  },
  {
   "cell_type": "code",
   "execution_count": 69,
   "metadata": {},
   "outputs": [
    {
     "data": {
      "text/plain": [
       "SOP\n",
       "1.0    0.538333\n",
       "1.5    0.546400\n",
       "2.0    0.589535\n",
       "2.5    0.645312\n",
       "3.0    0.678500\n",
       "3.5    0.712045\n",
       "4.0    0.782809\n",
       "4.5    0.850000\n",
       "5.0    0.885000\n",
       "Name: Chance of Admit , dtype: float64"
      ]
     },
     "execution_count": 69,
     "metadata": {},
     "output_type": "execute_result"
    }
   ],
   "source": [
    "data.groupby('SOP')['Chance of Admit '].mean().sort_values()"
   ]
  },
  {
   "cell_type": "markdown",
   "metadata": {},
   "source": [
    "The higher the SOP value the higher the chances of Admission"
   ]
  },
  {
   "cell_type": "code",
   "execution_count": 71,
   "metadata": {},
   "outputs": [
    {
     "data": {
      "text/plain": [
       "LOR \n",
       "1.0    0.420000\n",
       "1.5    0.550000\n",
       "2.0    0.568261\n",
       "2.5    0.640600\n",
       "3.0    0.668485\n",
       "3.5    0.723023\n",
       "4.0    0.764149\n",
       "4.5    0.831905\n",
       "5.0    0.872600\n",
       "Name: Chance of Admit , dtype: float64"
      ]
     },
     "execution_count": 71,
     "metadata": {},
     "output_type": "execute_result"
    }
   ],
   "source": [
    "data.groupby('LOR ')['Chance of Admit '].mean().sort_values()"
   ]
  },
  {
   "cell_type": "markdown",
   "metadata": {},
   "source": [
    "As LOR increases, Cance of Admission Increases"
   ]
  },
  {
   "cell_type": "code",
   "execution_count": 72,
   "metadata": {},
   "outputs": [
    {
     "data": {
      "text/plain": [
       "University Rating\n",
       "1    0.562059\n",
       "2    0.626111\n",
       "3    0.702901\n",
       "4    0.801619\n",
       "5    0.888082\n",
       "Name: Chance of Admit , dtype: float64"
      ]
     },
     "execution_count": 72,
     "metadata": {},
     "output_type": "execute_result"
    }
   ],
   "source": [
    "data.groupby('University Rating')['Chance of Admit '].mean().sort_values()"
   ]
  },
  {
   "cell_type": "markdown",
   "metadata": {},
   "source": [
    "As University rating increases, chance of Admission increases"
   ]
  },
  {
   "cell_type": "code",
   "execution_count": 108,
   "metadata": {},
   "outputs": [
    {
     "data": {
      "text/plain": [
       "<matplotlib.axes._subplots.AxesSubplot at 0x2193ccffe48>"
      ]
     },
     "execution_count": 108,
     "metadata": {},
     "output_type": "execute_result"
    },
    {
     "data": {
      "image/png": "[encoded data removed]",
      "text/plain": [
       "<Figure size 432x288 with 1 Axes>"
      ]
     },
     "metadata": {
      "needs_background": "light"
     },
     "output_type": "display_data"
    }
   ],
   "source": [
    "sns.distplot(data['Chance of Admit '])"
   ]
  },
  {
   "cell_type": "markdown",
   "metadata": {},
   "source": [
    "The chance of Admission is in the range of 0 and 1\n",
    "\n",
    "A high percentage of people had more than averge chance of Admission"
   ]
  },
  {
   "cell_type": "code",
   "execution_count": 98,
   "metadata": {},
   "outputs": [
    {
     "data": {
      "text/plain": [
       "<matplotlib.axes._subplots.AxesSubplot at 0x2193c8f1d08>"
      ]
     },
     "execution_count": 98,
     "metadata": {},
     "output_type": "execute_result"
    },
    {
     "data": {
      "image/png": "[encoded data removed]",
      "text/plain": [
       "<Figure size 432x288 with 1 Axes>"
      ]
     },
     "metadata": {
      "needs_background": "light"
     },
     "output_type": "display_data"
    }
   ],
   "source": [
    "sns.distplot(data['CGPA'])"
   ]
  },
  {
   "cell_type": "markdown",
   "metadata": {},
   "source": [
    "The Average Cgpa of applicants is in the range of 8 and 9"
   ]
  },
  {
   "cell_type": "code",
   "execution_count": 101,
   "metadata": {},
   "outputs": [],
   "source": [
    "correlation = data.corr()"
   ]
  },
  {
   "cell_type": "code",
   "execution_count": 104,
   "metadata": {},
   "outputs": [
    {
     "data": {
      "text/plain": [
       "<matplotlib.axes._subplots.AxesSubplot at 0x2193cc26cc8>"
      ]
     },
     "execution_count": 104,
     "metadata": {},
     "output_type": "execute_result"
    },
    {
     "data": {
      "image/png": "[encoded data removed]",
      "text/plain": [
       "<Figure size 432x288 with 2 Axes>"
      ]
     },
     "metadata": {
      "needs_background": "light"
     },
     "output_type": "display_data"
    }
   ],
   "source": [
    "sns.heatmap(correlation,linecolor='black',cmap=\"YlGnBu\")"
   ]
  },
  {
   "cell_type": "code",
   "execution_count": 106,
   "metadata": {},
   "outputs": [],
   "source": [
    "train_data = data.drop(['Serial No.','Chance of Admit '],axis=1)"
   ]
  },
  {
   "cell_type": "code",
   "execution_count": 107,
   "metadata": {},
   "outputs": [],
   "source": [
    "test_data = data['Chance of Admit ']"
   ]
  },
  {
   "cell_type": "code",
   "execution_count": null,
   "metadata": {},
   "outputs": [],
   "source": []
  }
 ],
 "metadata": {
  "kernelspec": {
   "display_name": "Python 3",
   "language": "python",
   "name": "python3"
  },
  "language_info": {
   "codemirror_mode": {
    "name": "ipython",
    "version": 3
   },
   "file_extension": ".py",
   "mimetype": "text/x-python",
   "name": "python",
   "nbconvert_exporter": "python",
   "pygments_lexer": "ipython3",
   "version": "3.7.4"
  }
 },
 "nbformat": 4,
 "nbformat_minor": 2
}
